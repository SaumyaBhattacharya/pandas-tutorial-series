{
 "cells": [
  {
   "cell_type": "markdown",
   "id": "bd94370d",
   "metadata": {},
   "source": [
    "# Read & Write Different types of Files in Pandas"
   ]
  },
  {
   "cell_type": "code",
   "execution_count": 1,
   "id": "6406689c",
   "metadata": {},
   "outputs": [],
   "source": [
    "import pandas as pd"
   ]
  },
  {
   "cell_type": "markdown",
   "id": "26a733e5",
   "metadata": {},
   "source": [
    "## CSV File"
   ]
  },
  {
   "cell_type": "markdown",
   "id": "5ffda5f2",
   "metadata": {},
   "source": [
    "### Read CSV & create Dataframe"
   ]
  },
  {
   "cell_type": "code",
   "execution_count": 2,
   "id": "4cb7774b",
   "metadata": {
    "scrolled": true
   },
   "outputs": [
    {
     "data": {
      "text/html": [
       "<div>\n",
       "<style scoped>\n",
       "    .dataframe tbody tr th:only-of-type {\n",
       "        vertical-align: middle;\n",
       "    }\n",
       "\n",
       "    .dataframe tbody tr th {\n",
       "        vertical-align: top;\n",
       "    }\n",
       "\n",
       "    .dataframe thead th {\n",
       "        text-align: right;\n",
       "    }\n",
       "</style>\n",
       "<table border=\"1\" class=\"dataframe\">\n",
       "  <thead>\n",
       "    <tr style=\"text-align: right;\">\n",
       "      <th></th>\n",
       "      <th>SquareFeet</th>\n",
       "      <th>Bedrooms</th>\n",
       "      <th>Bathrooms</th>\n",
       "      <th>Neighborhood</th>\n",
       "      <th>YearBuilt</th>\n",
       "      <th>Price</th>\n",
       "    </tr>\n",
       "  </thead>\n",
       "  <tbody>\n",
       "    <tr>\n",
       "      <th>0</th>\n",
       "      <td>2126</td>\n",
       "      <td>4</td>\n",
       "      <td>1</td>\n",
       "      <td>Rural</td>\n",
       "      <td>1969</td>\n",
       "      <td>215355.283618</td>\n",
       "    </tr>\n",
       "    <tr>\n",
       "      <th>1</th>\n",
       "      <td>2459</td>\n",
       "      <td>3</td>\n",
       "      <td>2</td>\n",
       "      <td>Rural</td>\n",
       "      <td>1980</td>\n",
       "      <td>195014.221626</td>\n",
       "    </tr>\n",
       "    <tr>\n",
       "      <th>2</th>\n",
       "      <td>1860</td>\n",
       "      <td>2</td>\n",
       "      <td>1</td>\n",
       "      <td>Suburb</td>\n",
       "      <td>1970</td>\n",
       "      <td>306891.012076</td>\n",
       "    </tr>\n",
       "    <tr>\n",
       "      <th>3</th>\n",
       "      <td>2294</td>\n",
       "      <td>2</td>\n",
       "      <td>1</td>\n",
       "      <td>Urban</td>\n",
       "      <td>1996</td>\n",
       "      <td>206786.787153</td>\n",
       "    </tr>\n",
       "    <tr>\n",
       "      <th>4</th>\n",
       "      <td>2130</td>\n",
       "      <td>5</td>\n",
       "      <td>2</td>\n",
       "      <td>Suburb</td>\n",
       "      <td>2001</td>\n",
       "      <td>272436.239065</td>\n",
       "    </tr>\n",
       "  </tbody>\n",
       "</table>\n",
       "</div>"
      ],
      "text/plain": [
       "   SquareFeet  Bedrooms  Bathrooms Neighborhood  YearBuilt          Price\n",
       "0        2126         4          1        Rural       1969  215355.283618\n",
       "1        2459         3          2        Rural       1980  195014.221626\n",
       "2        1860         2          1       Suburb       1970  306891.012076\n",
       "3        2294         2          1        Urban       1996  206786.787153\n",
       "4        2130         5          2       Suburb       2001  272436.239065"
      ]
     },
     "execution_count": 2,
     "metadata": {},
     "output_type": "execute_result"
    }
   ],
   "source": [
    "housing_price_csv = 'G:\\Youtube\\Pandas\\example_files\\housing_price_dataset.csv'\n",
    "housing_price_df = pd.read_csv(housing_price_csv)\n",
    "\n",
    "housing_price_df.head()"
   ]
  },
  {
   "cell_type": "markdown",
   "id": "e318d59d",
   "metadata": {},
   "source": [
    "### Write to CSV"
   ]
  },
  {
   "cell_type": "code",
   "execution_count": 3,
   "id": "e4f9ab43",
   "metadata": {},
   "outputs": [],
   "source": [
    "target_csv_path = 'G:\\Youtube\\Pandas\\example_files\\housing_price.csv'\n",
    "housing_price_df.to_csv(target_csv_path)"
   ]
  },
  {
   "cell_type": "markdown",
   "id": "24c0696e",
   "metadata": {},
   "source": [
    "## Excel File"
   ]
  },
  {
   "cell_type": "markdown",
   "id": "e4c2f9d7",
   "metadata": {},
   "source": [
    "### Read Excel & create Dataframe"
   ]
  },
  {
   "cell_type": "code",
   "execution_count": 4,
   "id": "a58001cc",
   "metadata": {
    "scrolled": false
   },
   "outputs": [
    {
     "data": {
      "text/html": [
       "<div>\n",
       "<style scoped>\n",
       "    .dataframe tbody tr th:only-of-type {\n",
       "        vertical-align: middle;\n",
       "    }\n",
       "\n",
       "    .dataframe tbody tr th {\n",
       "        vertical-align: top;\n",
       "    }\n",
       "\n",
       "    .dataframe thead th {\n",
       "        text-align: right;\n",
       "    }\n",
       "</style>\n",
       "<table border=\"1\" class=\"dataframe\">\n",
       "  <thead>\n",
       "    <tr style=\"text-align: right;\">\n",
       "      <th></th>\n",
       "      <th>order_no</th>\n",
       "      <th>order_date</th>\n",
       "      <th>buyer</th>\n",
       "      <th>ship_city</th>\n",
       "      <th>ship_state</th>\n",
       "      <th>sku</th>\n",
       "      <th>description</th>\n",
       "      <th>quantity</th>\n",
       "      <th>item_total</th>\n",
       "      <th>shipping_fee</th>\n",
       "      <th>cod</th>\n",
       "      <th>order_status</th>\n",
       "    </tr>\n",
       "  </thead>\n",
       "  <tbody>\n",
       "    <tr>\n",
       "      <th>0</th>\n",
       "      <td>405-9763961-5211537</td>\n",
       "      <td>Sun, 18 Jul, 2021, 10:38 pm IST</td>\n",
       "      <td>Mr.</td>\n",
       "      <td>CHANDIGARH,</td>\n",
       "      <td>CHANDIGARH</td>\n",
       "      <td>SKU:  2X-3C0F-KNJE</td>\n",
       "      <td>100% Leather Elephant Shaped Piggy Coin Bank |...</td>\n",
       "      <td>1</td>\n",
       "      <td>₹449.00</td>\n",
       "      <td>NaN</td>\n",
       "      <td>NaN</td>\n",
       "      <td>Delivered to buyer</td>\n",
       "    </tr>\n",
       "    <tr>\n",
       "      <th>1</th>\n",
       "      <td>404-3964908-7850720</td>\n",
       "      <td>Tue, 19 Oct, 2021, 6:05 pm IST</td>\n",
       "      <td>Minam</td>\n",
       "      <td>PASIGHAT,</td>\n",
       "      <td>ARUNACHAL PRADESH</td>\n",
       "      <td>SKU:  DN-0WDX-VYOT</td>\n",
       "      <td>Women's Set of 5 Multicolor Pure Leather Singl...</td>\n",
       "      <td>1</td>\n",
       "      <td>₹449.00</td>\n",
       "      <td>₹60.18</td>\n",
       "      <td>NaN</td>\n",
       "      <td>Delivered to buyer</td>\n",
       "    </tr>\n",
       "    <tr>\n",
       "      <th>2</th>\n",
       "      <td>171-8103182-4289117</td>\n",
       "      <td>Sun, 28 Nov, 2021, 10:20 pm IST</td>\n",
       "      <td>yatipertin</td>\n",
       "      <td>PASIGHAT,</td>\n",
       "      <td>ARUNACHAL PRADESH</td>\n",
       "      <td>SKU:  DN-0WDX-VYOT</td>\n",
       "      <td>Women's Set of 5 Multicolor Pure Leather Singl...</td>\n",
       "      <td>1</td>\n",
       "      <td>₹449.00</td>\n",
       "      <td>₹60.18</td>\n",
       "      <td>NaN</td>\n",
       "      <td>Delivered to buyer</td>\n",
       "    </tr>\n",
       "    <tr>\n",
       "      <th>3</th>\n",
       "      <td>405-3171677-9557154</td>\n",
       "      <td>Wed, 28 Jul, 2021, 4:06 am IST</td>\n",
       "      <td>aciya</td>\n",
       "      <td>DEVARAKONDA,</td>\n",
       "      <td>TELANGANA</td>\n",
       "      <td>SKU:  AH-J3AO-R7DN</td>\n",
       "      <td>Pure 100% Leather Block Print Rectangular Jewe...</td>\n",
       "      <td>1</td>\n",
       "      <td>NaN</td>\n",
       "      <td>NaN</td>\n",
       "      <td>Cash On Delivery</td>\n",
       "      <td>Delivered to buyer</td>\n",
       "    </tr>\n",
       "    <tr>\n",
       "      <th>4</th>\n",
       "      <td>402-8910771-1215552</td>\n",
       "      <td>Tue, 28 Sept, 2021, 2:50 pm IST</td>\n",
       "      <td>Susmita</td>\n",
       "      <td>MUMBAI,</td>\n",
       "      <td>MAHARASHTRA</td>\n",
       "      <td>SKU:  KL-7WAA-Z82I</td>\n",
       "      <td>Pure Leather Sling Bag with Multiple Pockets a...</td>\n",
       "      <td>1</td>\n",
       "      <td>₹1,099.00</td>\n",
       "      <td>₹84.96</td>\n",
       "      <td>NaN</td>\n",
       "      <td>Delivered to buyer</td>\n",
       "    </tr>\n",
       "  </tbody>\n",
       "</table>\n",
       "</div>"
      ],
      "text/plain": [
       "              order_no                       order_date       buyer  \\\n",
       "0  405-9763961-5211537  Sun, 18 Jul, 2021, 10:38 pm IST         Mr.   \n",
       "1  404-3964908-7850720   Tue, 19 Oct, 2021, 6:05 pm IST       Minam   \n",
       "2  171-8103182-4289117  Sun, 28 Nov, 2021, 10:20 pm IST  yatipertin   \n",
       "3  405-3171677-9557154   Wed, 28 Jul, 2021, 4:06 am IST       aciya   \n",
       "4  402-8910771-1215552  Tue, 28 Sept, 2021, 2:50 pm IST     Susmita   \n",
       "\n",
       "      ship_city         ship_state                 sku  \\\n",
       "0   CHANDIGARH,         CHANDIGARH  SKU:  2X-3C0F-KNJE   \n",
       "1     PASIGHAT,  ARUNACHAL PRADESH  SKU:  DN-0WDX-VYOT   \n",
       "2     PASIGHAT,  ARUNACHAL PRADESH  SKU:  DN-0WDX-VYOT   \n",
       "3  DEVARAKONDA,          TELANGANA  SKU:  AH-J3AO-R7DN   \n",
       "4       MUMBAI,        MAHARASHTRA  SKU:  KL-7WAA-Z82I   \n",
       "\n",
       "                                         description  quantity item_total  \\\n",
       "0  100% Leather Elephant Shaped Piggy Coin Bank |...         1    ₹449.00   \n",
       "1  Women's Set of 5 Multicolor Pure Leather Singl...         1    ₹449.00   \n",
       "2  Women's Set of 5 Multicolor Pure Leather Singl...         1    ₹449.00   \n",
       "3  Pure 100% Leather Block Print Rectangular Jewe...         1        NaN   \n",
       "4  Pure Leather Sling Bag with Multiple Pockets a...         1  ₹1,099.00   \n",
       "\n",
       "  shipping_fee               cod        order_status  \n",
       "0          NaN               NaN  Delivered to buyer  \n",
       "1       ₹60.18               NaN  Delivered to buyer  \n",
       "2       ₹60.18               NaN  Delivered to buyer  \n",
       "3          NaN  Cash On Delivery  Delivered to buyer  \n",
       "4       ₹84.96               NaN  Delivered to buyer  "
      ]
     },
     "execution_count": 4,
     "metadata": {},
     "output_type": "execute_result"
    }
   ],
   "source": [
    "orders_data_excel = 'G:\\Youtube\\Pandas\\example_files\\orders_data.xlsx'\n",
    "orders_df = pd.read_excel(orders_data_excel)\n",
    "\n",
    "orders_df.head()"
   ]
  },
  {
   "cell_type": "markdown",
   "id": "8e41bf77",
   "metadata": {},
   "source": [
    "### Write to Excel"
   ]
  },
  {
   "cell_type": "code",
   "execution_count": 5,
   "id": "77737c7f",
   "metadata": {},
   "outputs": [],
   "source": [
    "target_excel_path = 'G:\\Youtube\\Pandas\\example_files\\orders.xlsx'\n",
    "orders_df.to_excel(target_excel_path)"
   ]
  },
  {
   "cell_type": "markdown",
   "id": "92a64e7a",
   "metadata": {},
   "source": [
    "## JSON File "
   ]
  },
  {
   "cell_type": "markdown",
   "id": "799cc836",
   "metadata": {},
   "source": [
    "### Read Json file & create Dataframe"
   ]
  },
  {
   "cell_type": "code",
   "execution_count": 6,
   "id": "188e2c73",
   "metadata": {
    "scrolled": true
   },
   "outputs": [
    {
     "data": {
      "text/html": [
       "<div>\n",
       "<style scoped>\n",
       "    .dataframe tbody tr th:only-of-type {\n",
       "        vertical-align: middle;\n",
       "    }\n",
       "\n",
       "    .dataframe tbody tr th {\n",
       "        vertical-align: top;\n",
       "    }\n",
       "\n",
       "    .dataframe thead th {\n",
       "        text-align: right;\n",
       "    }\n",
       "</style>\n",
       "<table border=\"1\" class=\"dataframe\">\n",
       "  <thead>\n",
       "    <tr style=\"text-align: right;\">\n",
       "      <th></th>\n",
       "      <th>sepalLength</th>\n",
       "      <th>sepalWidth</th>\n",
       "      <th>petalLength</th>\n",
       "      <th>petalWidth</th>\n",
       "      <th>species</th>\n",
       "    </tr>\n",
       "  </thead>\n",
       "  <tbody>\n",
       "    <tr>\n",
       "      <th>0</th>\n",
       "      <td>5.1</td>\n",
       "      <td>3.5</td>\n",
       "      <td>1.4</td>\n",
       "      <td>0.2</td>\n",
       "      <td>setosa</td>\n",
       "    </tr>\n",
       "    <tr>\n",
       "      <th>1</th>\n",
       "      <td>4.9</td>\n",
       "      <td>3.0</td>\n",
       "      <td>1.4</td>\n",
       "      <td>0.2</td>\n",
       "      <td>setosa</td>\n",
       "    </tr>\n",
       "    <tr>\n",
       "      <th>2</th>\n",
       "      <td>4.7</td>\n",
       "      <td>3.2</td>\n",
       "      <td>1.3</td>\n",
       "      <td>0.2</td>\n",
       "      <td>setosa</td>\n",
       "    </tr>\n",
       "    <tr>\n",
       "      <th>3</th>\n",
       "      <td>4.6</td>\n",
       "      <td>3.1</td>\n",
       "      <td>1.5</td>\n",
       "      <td>0.2</td>\n",
       "      <td>setosa</td>\n",
       "    </tr>\n",
       "    <tr>\n",
       "      <th>4</th>\n",
       "      <td>5.0</td>\n",
       "      <td>3.6</td>\n",
       "      <td>1.4</td>\n",
       "      <td>0.2</td>\n",
       "      <td>setosa</td>\n",
       "    </tr>\n",
       "  </tbody>\n",
       "</table>\n",
       "</div>"
      ],
      "text/plain": [
       "   sepalLength  sepalWidth  petalLength  petalWidth species\n",
       "0          5.1         3.5          1.4         0.2  setosa\n",
       "1          4.9         3.0          1.4         0.2  setosa\n",
       "2          4.7         3.2          1.3         0.2  setosa\n",
       "3          4.6         3.1          1.5         0.2  setosa\n",
       "4          5.0         3.6          1.4         0.2  setosa"
      ]
     },
     "execution_count": 6,
     "metadata": {},
     "output_type": "execute_result"
    }
   ],
   "source": [
    "iris_dataset_json = \"G:\\Youtube\\Pandas\\example_files\\iris.json\"\n",
    "iris_df = pd.read_json(iris_dataset_json)\n",
    "\n",
    "iris_df.head()"
   ]
  },
  {
   "cell_type": "markdown",
   "id": "70f730ab",
   "metadata": {},
   "source": [
    "### Write to Json"
   ]
  },
  {
   "cell_type": "code",
   "execution_count": 7,
   "id": "71a4b6a1",
   "metadata": {},
   "outputs": [],
   "source": [
    "target_json_path = \"G:\\Youtube\\Pandas\\example_files\\iris_json.json\"\n",
    "iris_df.to_json(target_json_path)"
   ]
  },
  {
   "cell_type": "markdown",
   "id": "516da299",
   "metadata": {},
   "source": [
    "## Parquet File"
   ]
  },
  {
   "cell_type": "markdown",
   "id": "8aeb9586",
   "metadata": {},
   "source": [
    "### Read Parquet file & create Dataframe"
   ]
  },
  {
   "cell_type": "code",
   "execution_count": null,
   "id": "36147962",
   "metadata": {},
   "outputs": [],
   "source": [
    "pip install pyarrow #You can install fastparquet package as well "
   ]
  },
  {
   "cell_type": "code",
   "execution_count": 8,
   "id": "95880d93",
   "metadata": {
    "scrolled": true
   },
   "outputs": [
    {
     "data": {
      "text/html": [
       "<div>\n",
       "<style scoped>\n",
       "    .dataframe tbody tr th:only-of-type {\n",
       "        vertical-align: middle;\n",
       "    }\n",
       "\n",
       "    .dataframe tbody tr th {\n",
       "        vertical-align: top;\n",
       "    }\n",
       "\n",
       "    .dataframe thead th {\n",
       "        text-align: right;\n",
       "    }\n",
       "</style>\n",
       "<table border=\"1\" class=\"dataframe\">\n",
       "  <thead>\n",
       "    <tr style=\"text-align: right;\">\n",
       "      <th></th>\n",
       "      <th>id</th>\n",
       "      <th>sepal_length</th>\n",
       "      <th>sepal_width</th>\n",
       "      <th>petal_length</th>\n",
       "      <th>petal_width</th>\n",
       "      <th>species</th>\n",
       "    </tr>\n",
       "  </thead>\n",
       "  <tbody>\n",
       "    <tr>\n",
       "      <th>0</th>\n",
       "      <td>1</td>\n",
       "      <td>5.1</td>\n",
       "      <td>3.5</td>\n",
       "      <td>1.4</td>\n",
       "      <td>0.2</td>\n",
       "      <td>setosa</td>\n",
       "    </tr>\n",
       "    <tr>\n",
       "      <th>1</th>\n",
       "      <td>2</td>\n",
       "      <td>4.9</td>\n",
       "      <td>3.0</td>\n",
       "      <td>1.4</td>\n",
       "      <td>0.2</td>\n",
       "      <td>setosa</td>\n",
       "    </tr>\n",
       "    <tr>\n",
       "      <th>2</th>\n",
       "      <td>3</td>\n",
       "      <td>4.7</td>\n",
       "      <td>3.2</td>\n",
       "      <td>1.3</td>\n",
       "      <td>0.2</td>\n",
       "      <td>setosa</td>\n",
       "    </tr>\n",
       "    <tr>\n",
       "      <th>3</th>\n",
       "      <td>4</td>\n",
       "      <td>4.6</td>\n",
       "      <td>3.1</td>\n",
       "      <td>1.5</td>\n",
       "      <td>0.2</td>\n",
       "      <td>setosa</td>\n",
       "    </tr>\n",
       "    <tr>\n",
       "      <th>4</th>\n",
       "      <td>5</td>\n",
       "      <td>5.0</td>\n",
       "      <td>3.6</td>\n",
       "      <td>1.4</td>\n",
       "      <td>0.2</td>\n",
       "      <td>setosa</td>\n",
       "    </tr>\n",
       "  </tbody>\n",
       "</table>\n",
       "</div>"
      ],
      "text/plain": [
       "   id  sepal_length  sepal_width  petal_length  petal_width species\n",
       "0   1           5.1          3.5           1.4          0.2  setosa\n",
       "1   2           4.9          3.0           1.4          0.2  setosa\n",
       "2   3           4.7          3.2           1.3          0.2  setosa\n",
       "3   4           4.6          3.1           1.5          0.2  setosa\n",
       "4   5           5.0          3.6           1.4          0.2  setosa"
      ]
     },
     "execution_count": 8,
     "metadata": {},
     "output_type": "execute_result"
    }
   ],
   "source": [
    "iris_dataset_parquet = 'G:\\Youtube\\Pandas\\example_files\\iris.parquet'\n",
    "iris_df = pd.read_parquet(iris_dataset_parquet)\n",
    "\n",
    "iris_df.head()"
   ]
  },
  {
   "cell_type": "markdown",
   "id": "5f735dab",
   "metadata": {},
   "source": [
    "### Write to Parquet"
   ]
  },
  {
   "cell_type": "code",
   "execution_count": 9,
   "id": "06ec9009",
   "metadata": {},
   "outputs": [],
   "source": [
    "target_parquet_path = 'G:\\Youtube\\Pandas\\example_files\\iris_parquet.parquet'\n",
    "iris_df.to_parquet(target_parquet_path)"
   ]
  },
  {
   "cell_type": "code",
   "execution_count": null,
   "id": "ac8a3595",
   "metadata": {},
   "outputs": [],
   "source": []
  }
 ],
 "metadata": {
  "kernelspec": {
   "display_name": "Python 3 (ipykernel)",
   "language": "python",
   "name": "python3"
  },
  "language_info": {
   "codemirror_mode": {
    "name": "ipython",
    "version": 3
   },
   "file_extension": ".py",
   "mimetype": "text/x-python",
   "name": "python",
   "nbconvert_exporter": "python",
   "pygments_lexer": "ipython3",
   "version": "3.9.13"
  }
 },
 "nbformat": 4,
 "nbformat_minor": 5
}
