{
 "cells": [
  {
   "cell_type": "markdown",
   "id": "3740b005",
   "metadata": {},
   "source": [
    "# Group By & Aggregation"
   ]
  },
  {
   "cell_type": "code",
   "execution_count": 1,
   "id": "1152dd45",
   "metadata": {},
   "outputs": [],
   "source": [
    "import pandas as pd"
   ]
  },
  {
   "cell_type": "code",
   "execution_count": 2,
   "id": "0f17662e",
   "metadata": {},
   "outputs": [
    {
     "data": {
      "text/html": [
       "<div>\n",
       "<style scoped>\n",
       "    .dataframe tbody tr th:only-of-type {\n",
       "        vertical-align: middle;\n",
       "    }\n",
       "\n",
       "    .dataframe tbody tr th {\n",
       "        vertical-align: top;\n",
       "    }\n",
       "\n",
       "    .dataframe thead th {\n",
       "        text-align: right;\n",
       "    }\n",
       "</style>\n",
       "<table border=\"1\" class=\"dataframe\">\n",
       "  <thead>\n",
       "    <tr style=\"text-align: right;\">\n",
       "      <th></th>\n",
       "      <th>SquareFeet</th>\n",
       "      <th>Bedrooms</th>\n",
       "      <th>Bathrooms</th>\n",
       "      <th>Neighborhood</th>\n",
       "      <th>YearBuilt</th>\n",
       "      <th>Price</th>\n",
       "    </tr>\n",
       "  </thead>\n",
       "  <tbody>\n",
       "    <tr>\n",
       "      <th>0</th>\n",
       "      <td>2126</td>\n",
       "      <td>4</td>\n",
       "      <td>1</td>\n",
       "      <td>Rural</td>\n",
       "      <td>1969</td>\n",
       "      <td>215355.283618</td>\n",
       "    </tr>\n",
       "    <tr>\n",
       "      <th>1</th>\n",
       "      <td>2459</td>\n",
       "      <td>3</td>\n",
       "      <td>2</td>\n",
       "      <td>Rural</td>\n",
       "      <td>1980</td>\n",
       "      <td>195014.221626</td>\n",
       "    </tr>\n",
       "    <tr>\n",
       "      <th>2</th>\n",
       "      <td>1860</td>\n",
       "      <td>2</td>\n",
       "      <td>1</td>\n",
       "      <td>Suburb</td>\n",
       "      <td>1970</td>\n",
       "      <td>306891.012076</td>\n",
       "    </tr>\n",
       "    <tr>\n",
       "      <th>3</th>\n",
       "      <td>2294</td>\n",
       "      <td>2</td>\n",
       "      <td>1</td>\n",
       "      <td>Urban</td>\n",
       "      <td>1996</td>\n",
       "      <td>206786.787153</td>\n",
       "    </tr>\n",
       "    <tr>\n",
       "      <th>4</th>\n",
       "      <td>2130</td>\n",
       "      <td>5</td>\n",
       "      <td>2</td>\n",
       "      <td>Suburb</td>\n",
       "      <td>2001</td>\n",
       "      <td>272436.239065</td>\n",
       "    </tr>\n",
       "  </tbody>\n",
       "</table>\n",
       "</div>"
      ],
      "text/plain": [
       "   SquareFeet  Bedrooms  Bathrooms Neighborhood  YearBuilt          Price\n",
       "0        2126         4          1        Rural       1969  215355.283618\n",
       "1        2459         3          2        Rural       1980  195014.221626\n",
       "2        1860         2          1       Suburb       1970  306891.012076\n",
       "3        2294         2          1        Urban       1996  206786.787153\n",
       "4        2130         5          2       Suburb       2001  272436.239065"
      ]
     },
     "execution_count": 2,
     "metadata": {},
     "output_type": "execute_result"
    }
   ],
   "source": [
    "housing_df = pd.read_csv('G:\\Youtube\\Pandas\\example_files\\housing_price_dataset.csv')\n",
    "\n",
    "housing_df.head() # Inspect the dataframe"
   ]
  },
  {
   "cell_type": "markdown",
   "id": "0fec85c8",
   "metadata": {},
   "source": [
    "### Group By"
   ]
  },
  {
   "cell_type": "code",
   "execution_count": 3,
   "id": "8a3e1705",
   "metadata": {},
   "outputs": [],
   "source": [
    "room_grouped_data = housing_df.groupby('Bedrooms')"
   ]
  },
  {
   "cell_type": "code",
   "execution_count": 4,
   "id": "dc73e622",
   "metadata": {},
   "outputs": [
    {
     "data": {
      "text/plain": [
       "<pandas.core.groupby.generic.DataFrameGroupBy object at 0x0000016716AFE970>"
      ]
     },
     "execution_count": 4,
     "metadata": {},
     "output_type": "execute_result"
    }
   ],
   "source": [
    "room_grouped_data"
   ]
  },
  {
   "cell_type": "code",
   "execution_count": 5,
   "id": "c860a22e",
   "metadata": {},
   "outputs": [
    {
     "name": "stdout",
     "output_type": "stream",
     "text": [
      "Bedrooms:  2\n",
      "       SquareFeet  Bedrooms  Bathrooms Neighborhood  YearBuilt          Price\n",
      "2            1860         2          1       Suburb       1970  306891.012076\n",
      "3            2294         2          1        Urban       1996  206786.787153\n",
      "5            2095         2          3       Suburb       2020  198208.803907\n",
      "6            2724         2          1       Suburb       1993  343429.319110\n",
      "12           1330         2          2       Suburb       1992  132172.392617\n",
      "...           ...       ...        ...          ...        ...            ...\n",
      "49965        2520         2          3        Rural       1961  374004.851836\n",
      "49983        2082         2          2        Rural       1963  268700.034119\n",
      "49984        2967         2          3        Urban       1960  345653.603641\n",
      "49993        1215         2          3        Urban       2017  126052.390562\n",
      "49996        2854         2          2       Suburb       1988  374507.656727\n",
      "\n",
      "[12436 rows x 6 columns]\n",
      "Bedrooms:  3\n",
      "       SquareFeet  Bedrooms  Bathrooms Neighborhood  YearBuilt          Price\n",
      "1            2459         3          2        Rural       1980  195014.221626\n",
      "11           2238         3          3       Suburb       1987  253358.645002\n",
      "21           2332         3          3        Rural       1978  263954.154063\n",
      "29           1955         3          1        Rural       2014  240976.551767\n",
      "32           1459         3          2        Rural       2006   77493.931439\n",
      "...           ...       ...        ...          ...        ...            ...\n",
      "49977        1517         3          3        Rural       2002  158852.084178\n",
      "49979        2308         3          3        Rural       1961  290933.139475\n",
      "49980        1224         3          1       Suburb       1991  169542.273161\n",
      "49985        1245         3          2       Suburb       1984  139553.846928\n",
      "49989        2613         3          2       Suburb       1992  233026.843614\n",
      "\n",
      "[12661 rows x 6 columns]\n",
      "Bedrooms:  4\n",
      "       SquareFeet  Bedrooms  Bathrooms Neighborhood  YearBuilt          Price\n",
      "0            2126         4          1        Rural       1969  215355.283618\n",
      "7            2044         4          3        Rural       1957  184992.321268\n",
      "8            2638         4          3        Urban       1959  377998.588152\n",
      "13           2482         4          3       Suburb       1989  231157.027676\n",
      "14           1087         4          1        Urban       1976  118393.823163\n",
      "...           ...       ...        ...          ...        ...            ...\n",
      "49973        2484         4          3       Suburb       1953  327618.187122\n",
      "49978        1439         4          1        Rural       2018  217151.521381\n",
      "49981        1564         4          3        Rural       2019  225878.769455\n",
      "49987        2237         4          1        Rural       2011  227359.621341\n",
      "49992        1818         4          1        Rural       1983  163683.675434\n",
      "\n",
      "[12435 rows x 6 columns]\n",
      "Bedrooms:  5\n",
      "       SquareFeet  Bedrooms  Bathrooms Neighborhood  YearBuilt          Price\n",
      "4            2130         5          2       Suburb       2001  272436.239065\n",
      "9            1121         5          2        Urban       2004   95961.926014\n",
      "10           1466         5          3       Suburb       1951  191113.768679\n",
      "16           2123         5          2        Rural       1956  190773.148563\n",
      "18           2687         5          1        Urban       1979  239222.667797\n",
      "...           ...       ...        ...          ...        ...            ...\n",
      "49994        2426         5          2        Urban       1950  331497.091307\n",
      "49995        1282         5          3        Rural       1975  100080.865895\n",
      "49997        2979         5          3       Suburb       1962  384110.555590\n",
      "49998        2596         5          2        Rural       1984  380512.685957\n",
      "49999        1572         5          3        Rural       2011  221618.583218\n",
      "\n",
      "[12468 rows x 6 columns]\n"
     ]
    }
   ],
   "source": [
    "for bedroom, split_df in room_grouped_data:\n",
    "    print('Bedrooms: ', bedroom)\n",
    "    print(split_df)"
   ]
  },
  {
   "cell_type": "markdown",
   "id": "47796c56",
   "metadata": {},
   "source": [
    "### Group By on multipile features/columns"
   ]
  },
  {
   "cell_type": "code",
   "execution_count": 9,
   "id": "adbd05fa",
   "metadata": {},
   "outputs": [],
   "source": [
    "neiborhood_bedroom_grouped_data = housing_df.groupby(['Neighborhood', 'Bedrooms'])"
   ]
  },
  {
   "cell_type": "code",
   "execution_count": 10,
   "id": "8622938f",
   "metadata": {},
   "outputs": [
    {
     "name": "stdout",
     "output_type": "stream",
     "text": [
      "Key:  ('Rural', 2)\n",
      "       SquareFeet  Bedrooms  Bathrooms Neighborhood  YearBuilt          Price\n",
      "23           1343         2          3        Rural       2013  151733.922490\n",
      "25           2437         2          1        Rural       2004  276162.861805\n",
      "55           1831         2          2        Rural       2000  190058.892900\n",
      "57           2154         2          1        Rural       2015  166810.388651\n",
      "72           1564         2          2        Rural       1983  163053.392050\n",
      "...           ...       ...        ...          ...        ...            ...\n",
      "49908        2281         2          2        Rural       1992  260102.244052\n",
      "49918        2391         2          3        Rural       2001  306588.550647\n",
      "49938        2262         2          3        Rural       1964  223398.780619\n",
      "49965        2520         2          3        Rural       1961  374004.851836\n",
      "49983        2082         2          2        Rural       1963  268700.034119\n",
      "\n",
      "[4118 rows x 6 columns]\n",
      "Key:  ('Rural', 3)\n",
      "       SquareFeet  Bedrooms  Bathrooms Neighborhood  YearBuilt          Price\n",
      "1            2459         3          2        Rural       1980  195014.221626\n",
      "21           2332         3          3        Rural       1978  263954.154063\n",
      "29           1955         3          1        Rural       2014  240976.551767\n",
      "32           1459         3          2        Rural       2006   77493.931439\n",
      "50           1957         3          2        Rural       1992  304197.579840\n",
      "...           ...       ...        ...          ...        ...            ...\n",
      "49934        1826         3          2        Rural       1965  172116.755363\n",
      "49936        2522         3          1        Rural       2010  214907.184511\n",
      "49952        2402         3          3        Rural       1966  288001.379620\n",
      "49977        1517         3          3        Rural       2002  158852.084178\n",
      "49979        2308         3          3        Rural       1961  290933.139475\n",
      "\n",
      "[4173 rows x 6 columns]\n",
      "Key:  ('Rural', 4)\n",
      "       SquareFeet  Bedrooms  Bathrooms Neighborhood  YearBuilt          Price\n",
      "0            2126         4          1        Rural       1969  215355.283618\n",
      "7            2044         4          3        Rural       1957  184992.321268\n",
      "19           1130         4          3        Rural       1962  143050.201782\n",
      "27           1385         4          3        Rural       1996   88030.541853\n",
      "30           1276         4          1        Rural       1965  104747.334589\n",
      "...           ...       ...        ...          ...        ...            ...\n",
      "49969        2683         4          1        Rural       1958  306619.288962\n",
      "49978        1439         4          1        Rural       2018  217151.521381\n",
      "49981        1564         4          3        Rural       2019  225878.769455\n",
      "49987        2237         4          1        Rural       2011  227359.621341\n",
      "49992        1818         4          1        Rural       1983  163683.675434\n",
      "\n",
      "[4200 rows x 6 columns]\n",
      "Key:  ('Rural', 5)\n",
      "       SquareFeet  Bedrooms  Bathrooms Neighborhood  YearBuilt          Price\n",
      "16           2123         5          2        Rural       1956  190773.148563\n",
      "26           1805         5          1        Rural       2002  243985.205472\n",
      "36           1747         5          3        Rural       1982  228683.226996\n",
      "44           1699         5          1        Rural       1960  156313.594195\n",
      "61           1020         5          1        Rural       1983  220053.860357\n",
      "...           ...       ...        ...          ...        ...            ...\n",
      "49971        2198         5          1        Rural       2020  294703.969855\n",
      "49976        2707         5          2        Rural       1958  299749.717117\n",
      "49995        1282         5          3        Rural       1975  100080.865895\n",
      "49998        2596         5          2        Rural       1984  380512.685957\n",
      "49999        1572         5          3        Rural       2011  221618.583218\n",
      "\n",
      "[4185 rows x 6 columns]\n",
      "Key:  ('Suburb', 2)\n",
      "       SquareFeet  Bedrooms  Bathrooms Neighborhood  YearBuilt          Price\n",
      "2            1860         2          1       Suburb       1970  306891.012076\n",
      "5            2095         2          3       Suburb       2020  198208.803907\n",
      "6            2724         2          1       Suburb       1993  343429.319110\n",
      "12           1330         2          2       Suburb       1992  132172.392617\n",
      "15           2396         2          2       Suburb       1993  267377.399686\n",
      "...           ...       ...        ...          ...        ...            ...\n",
      "49871        2756         2          1       Suburb       2007  229492.673278\n",
      "49880        2539         2          2       Suburb       2018  331888.198791\n",
      "49890        1480         2          3       Suburb       1973  220245.093700\n",
      "49930        2426         2          1       Suburb       2020  255082.182697\n",
      "49996        2854         2          2       Suburb       1988  374507.656727\n",
      "\n",
      "[4137 rows x 6 columns]\n",
      "Key:  ('Suburb', 3)\n",
      "       SquareFeet  Bedrooms  Bathrooms Neighborhood  YearBuilt          Price\n",
      "11           2238         3          3       Suburb       1987  253358.645002\n",
      "33           2337         3          3       Suburb       2008  331851.081669\n",
      "41           1510         3          2       Suburb       2002  156928.014717\n",
      "45           1975         3          3       Suburb       2016  279764.371040\n",
      "46           2806         3          3       Suburb       1962  366494.480602\n",
      "...           ...       ...        ...          ...        ...            ...\n",
      "49970        1102         3          3       Suburb       1973  143036.715541\n",
      "49974        2771         3          2       Suburb       2007  322819.127538\n",
      "49980        1224         3          1       Suburb       1991  169542.273161\n",
      "49985        1245         3          2       Suburb       1984  139553.846928\n",
      "49989        2613         3          2       Suburb       1992  233026.843614\n",
      "\n",
      "[4306 rows x 6 columns]\n",
      "Key:  ('Suburb', 4)\n",
      "       SquareFeet  Bedrooms  Bathrooms Neighborhood  YearBuilt          Price\n",
      "13           2482         4          3       Suburb       1989  231157.027676\n",
      "17           1871         4          2       Suburb       1977  172989.804901\n",
      "22           1769         4          1       Suburb       1963  148310.620168\n",
      "40           2082         4          2       Suburb       1966  164855.987775\n",
      "60           1646         4          3       Suburb       1994   91423.619646\n",
      "...           ...       ...        ...          ...        ...            ...\n",
      "49888        2554         4          2       Suburb       1959  278645.939569\n",
      "49911        2433         4          3       Suburb       1987  308851.842649\n",
      "49917        1649         4          3       Suburb       1969  262961.204791\n",
      "49956        1596         4          2       Suburb       1979  173954.400042\n",
      "49973        2484         4          3       Suburb       1953  327618.187122\n",
      "\n",
      "[4160 rows x 6 columns]\n",
      "Key:  ('Suburb', 5)\n",
      "       SquareFeet  Bedrooms  Bathrooms Neighborhood  YearBuilt          Price\n",
      "4            2130         5          2       Suburb       2001  272436.239065\n",
      "10           1466         5          3       Suburb       1951  191113.768679\n",
      "53           2590         5          2       Suburb       1957  328501.801546\n",
      "58           2508         5          3       Suburb       2007  352932.162464\n",
      "62           1840         5          3       Suburb       1961  216148.208454\n",
      "...           ...       ...        ...          ...        ...            ...\n",
      "49986        2542         5          3       Suburb       1952  247812.227684\n",
      "49988        1927         5          3       Suburb       1995  258085.651326\n",
      "49990        2724         5          2       Suburb       1978  395026.724290\n",
      "49991        1952         5          3       Suburb       1981  200237.485880\n",
      "49997        2979         5          3       Suburb       1962  384110.555590\n",
      "\n",
      "[4118 rows x 6 columns]\n",
      "Key:  ('Urban', 2)\n",
      "       SquareFeet  Bedrooms  Bathrooms Neighborhood  YearBuilt          Price\n",
      "3            2294         2          1        Urban       1996  206786.787153\n",
      "24           2515         2          3        Urban       2013  307961.107382\n",
      "35           1252         2          1        Urban       1993  127932.756780\n",
      "42           2705         2          1        Urban       1971  282457.861374\n",
      "49           1686         2          3        Urban       1994  249148.344686\n",
      "...           ...       ...        ...          ...        ...            ...\n",
      "49946        2605         2          3        Urban       1951  251137.987237\n",
      "49949        2854         2          1        Urban       1980  244392.697894\n",
      "49964        1516         2          2        Urban       1958   92932.625267\n",
      "49984        2967         2          3        Urban       1960  345653.603641\n",
      "49993        1215         2          3        Urban       2017  126052.390562\n",
      "\n",
      "[4181 rows x 6 columns]\n",
      "Key:  ('Urban', 3)\n",
      "       SquareFeet  Bedrooms  Bathrooms Neighborhood  YearBuilt          Price\n",
      "39           1474         3          3        Urban       1959  184819.961190\n",
      "47           1189         3          3        Urban       2007  244539.281689\n",
      "54           2267         3          2        Urban       1989  215867.418985\n",
      "69           1241         3          2        Urban       1985  199373.182099\n",
      "75           1091         3          3        Urban       2012  194294.001842\n",
      "...           ...       ...        ...          ...        ...            ...\n",
      "49887        1807         3          1        Urban       2009  113218.634071\n",
      "49900        2054         3          1        Urban       1995  239800.132394\n",
      "49913        1774         3          2        Urban       2020  234374.138187\n",
      "49953        1891         3          2        Urban       1973  194073.920689\n",
      "49967        2173         3          2        Urban       2016  245502.709315\n",
      "\n",
      "[4182 rows x 6 columns]\n",
      "Key:  ('Urban', 4)\n",
      "       SquareFeet  Bedrooms  Bathrooms Neighborhood  YearBuilt          Price\n",
      "8            2638         4          3        Urban       1959  377998.588152\n",
      "14           1087         4          1        Urban       1976  118393.823163\n",
      "20           2685         4          3        Urban       1999  405523.828317\n",
      "68           1013         4          3        Urban       2002  164858.186949\n",
      "70           1776         4          2        Urban       2014  181245.446744\n",
      "...           ...       ...        ...          ...        ...            ...\n",
      "49950        1218         4          3        Urban       1994  113192.100786\n",
      "49954        2217         4          2        Urban       1960  172276.418804\n",
      "49961        1003         4          2        Urban       2009   96169.096273\n",
      "49966        2249         4          2        Urban       1950  266233.929673\n",
      "49972        2009         4          1        Urban       2000  251924.652151\n",
      "\n",
      "[4075 rows x 6 columns]\n",
      "Key:  ('Urban', 5)\n",
      "       SquareFeet  Bedrooms  Bathrooms Neighborhood  YearBuilt          Price\n",
      "9            1121         5          2        Urban       2004   95961.926014\n",
      "18           2687         5          1        Urban       1979  239222.667797\n",
      "28           2215         5          1        Urban       1952  282908.981694\n",
      "43           2499         5          1        Urban       2021  287591.672822\n",
      "56           2528         5          1        Urban       1969  259751.154446\n",
      "...           ...       ...        ...          ...        ...            ...\n",
      "49940        2093         5          3        Urban       1962  202331.765141\n",
      "49955        2063         5          2        Urban       1966  227163.165257\n",
      "49962        2825         5          2        Urban       2020  328678.917538\n",
      "49975        2057         5          3        Urban       1973  194964.941703\n",
      "49994        2426         5          2        Urban       1950  331497.091307\n",
      "\n",
      "[4165 rows x 6 columns]\n"
     ]
    }
   ],
   "source": [
    "for key, split_data in neiborhood_bedroom_grouped_data:\n",
    "    #print('Neighborhood: ', neighborhood)\n",
    "    print('Key: ', key)\n",
    "    print(split_data)"
   ]
  },
  {
   "cell_type": "markdown",
   "id": "799cdff1",
   "metadata": {},
   "source": [
    "### Aggregation on groupby"
   ]
  },
  {
   "cell_type": "code",
   "execution_count": 11,
   "id": "c89c3e86",
   "metadata": {},
   "outputs": [
    {
     "data": {
      "text/plain": [
       "Neighborhood  Bedrooms\n",
       "Rural         2           4118\n",
       "              3           4173\n",
       "              4           4200\n",
       "              5           4185\n",
       "Suburb        2           4137\n",
       "              3           4306\n",
       "              4           4160\n",
       "              5           4118\n",
       "Urban         2           4181\n",
       "              3           4182\n",
       "              4           4075\n",
       "              5           4165\n",
       "Name: Price, dtype: int64"
      ]
     },
     "execution_count": 11,
     "metadata": {},
     "output_type": "execute_result"
    }
   ],
   "source": [
    "neiborhood_bedroom_grouped_data['Price'].count() # Helps us to check the dataset's quality"
   ]
  },
  {
   "cell_type": "code",
   "execution_count": 12,
   "id": "7ef14f3b",
   "metadata": {
    "scrolled": false
   },
   "outputs": [
    {
     "data": {
      "text/plain": [
       "Neighborhood  Bedrooms\n",
       "Rural         2           218323.916816\n",
       "              3           219053.374366\n",
       "              4           227774.554979\n",
       "              5           231112.603644\n",
       "Suburb        2           216300.128219\n",
       "              3           220397.857293\n",
       "              4           224609.500078\n",
       "              5           231776.727619\n",
       "Urban         2           220050.010346\n",
       "              3           223737.666243\n",
       "              4           230086.563256\n",
       "              5           234894.984959\n",
       "Name: Price, dtype: float64"
      ]
     },
     "execution_count": 12,
     "metadata": {},
     "output_type": "execute_result"
    }
   ],
   "source": [
    "neiborhood_bedroom_grouped_data['Price'].mean() # Basic analysis of housing price"
   ]
  },
  {
   "cell_type": "code",
   "execution_count": 13,
   "id": "93ae8dc9",
   "metadata": {},
   "outputs": [
    {
     "data": {
      "text/plain": [
       "Neighborhood  Bedrooms\n",
       "Rural         2           452870.618989\n",
       "              3           427295.404603\n",
       "              4           449315.843749\n",
       "              5           492195.259972\n",
       "Suburb        2           455088.643110\n",
       "              3           463977.238482\n",
       "              4           445343.409387\n",
       "              5           482577.163405\n",
       "Urban         2           470989.679074\n",
       "              3           468493.877841\n",
       "              4           462557.562958\n",
       "              5           476671.733263\n",
       "Name: Price, dtype: float64"
      ]
     },
     "execution_count": 13,
     "metadata": {},
     "output_type": "execute_result"
    }
   ],
   "source": [
    "neiborhood_bedroom_grouped_data['Price'].max()"
   ]
  },
  {
   "cell_type": "code",
   "execution_count": null,
   "id": "ad8582e2",
   "metadata": {},
   "outputs": [],
   "source": []
  }
 ],
 "metadata": {
  "kernelspec": {
   "display_name": "Python 3 (ipykernel)",
   "language": "python",
   "name": "python3"
  },
  "language_info": {
   "codemirror_mode": {
    "name": "ipython",
    "version": 3
   },
   "file_extension": ".py",
   "mimetype": "text/x-python",
   "name": "python",
   "nbconvert_exporter": "python",
   "pygments_lexer": "ipython3",
   "version": "3.9.13"
  }
 },
 "nbformat": 4,
 "nbformat_minor": 5
}
