{
 "cells": [
  {
   "cell_type": "markdown",
   "id": "d941cd9c",
   "metadata": {},
   "source": [
    "# Series in Pandas"
   ]
  },
  {
   "cell_type": "code",
   "execution_count": 1,
   "id": "19dc633c",
   "metadata": {},
   "outputs": [],
   "source": [
    "import pandas as pd "
   ]
  },
  {
   "cell_type": "code",
   "execution_count": 2,
   "id": "3b71f512",
   "metadata": {},
   "outputs": [
    {
     "name": "stderr",
     "output_type": "stream",
     "text": [
      "C:\\Users\\Saumyanti\\AppData\\Local\\Temp\\ipykernel_11624\\197760193.py:1: FutureWarning: The default dtype for empty Series will be 'object' instead of 'float64' in a future version. Specify a dtype explicitly to silence this warning.\n",
      "  series_obj = pd.Series()\n"
     ]
    }
   ],
   "source": [
    "series_obj = pd.Series()"
   ]
  },
  {
   "cell_type": "code",
   "execution_count": 3,
   "id": "a634cbde",
   "metadata": {},
   "outputs": [
    {
     "data": {
      "text/plain": [
       "pandas.core.series.Series"
      ]
     },
     "execution_count": 3,
     "metadata": {},
     "output_type": "execute_result"
    }
   ],
   "source": [
    "type(series_obj)"
   ]
  },
  {
   "cell_type": "markdown",
   "id": "1922fcf1",
   "metadata": {},
   "source": [
    "Create Series from List"
   ]
  },
  {
   "cell_type": "code",
   "execution_count": 4,
   "id": "339779a9",
   "metadata": {},
   "outputs": [
    {
     "data": {
      "text/plain": [
       "0    120\n",
       "1    131\n",
       "2    139\n",
       "3    144\n",
       "4    152\n",
       "5    157\n",
       "dtype: int64"
      ]
     },
     "execution_count": 4,
     "metadata": {},
     "output_type": "execute_result"
    }
   ],
   "source": [
    "list_one = [120, 131, 139, 144, 152, 157]\n",
    "\n",
    "series_from_list = pd.Series(list_one)\n",
    "\n",
    "series_from_list"
   ]
  },
  {
   "cell_type": "markdown",
   "id": "3d45926f",
   "metadata": {},
   "source": [
    "Create Series from Dict"
   ]
  },
  {
   "cell_type": "code",
   "execution_count": 5,
   "id": "b0b73b20",
   "metadata": {},
   "outputs": [
    {
     "data": {
      "text/plain": [
       "2023/12/23    120\n",
       "2023/12/24    131\n",
       "2023/12/25    139\n",
       "dtype: int64"
      ]
     },
     "execution_count": 5,
     "metadata": {},
     "output_type": "execute_result"
    }
   ],
   "source": [
    "dict_one = {\"2023/12/23\":120, \"2023/12/24\":131, \"2023/12/25\": 139}\n",
    "\n",
    "series_from_dict = pd.Series(dict_one)\n",
    "\n",
    "series_from_dict"
   ]
  },
  {
   "cell_type": "markdown",
   "id": "173ad055",
   "metadata": {},
   "source": [
    "Create Series from Scaler/Constant"
   ]
  },
  {
   "cell_type": "code",
   "execution_count": 6,
   "id": "9f9e06d7",
   "metadata": {},
   "outputs": [
    {
     "data": {
      "text/plain": [
       "0    7\n",
       "1    7\n",
       "2    7\n",
       "dtype: int64"
      ]
     },
     "execution_count": 6,
     "metadata": {},
     "output_type": "execute_result"
    }
   ],
   "source": [
    "series_from_scaler = pd.Series(7, index=[0,1,2])\n",
    "\n",
    "series_from_scaler"
   ]
  },
  {
   "cell_type": "markdown",
   "id": "ab56f82c",
   "metadata": {},
   "source": [
    "Accessing Data from Series"
   ]
  },
  {
   "cell_type": "code",
   "execution_count": 7,
   "id": "cb696299",
   "metadata": {},
   "outputs": [
    {
     "data": {
      "text/plain": [
       "131"
      ]
     },
     "execution_count": 7,
     "metadata": {},
     "output_type": "execute_result"
    }
   ],
   "source": [
    "series_from_list[1] #By default Index starts from 0"
   ]
  },
  {
   "cell_type": "code",
   "execution_count": 8,
   "id": "c02bee86",
   "metadata": {},
   "outputs": [
    {
     "data": {
      "text/plain": [
       "1    131\n",
       "2    139\n",
       "dtype: int64"
      ]
     },
     "execution_count": 8,
     "metadata": {},
     "output_type": "execute_result"
    }
   ],
   "source": [
    "series_from_list[1:3] #Slicing is possible"
   ]
  },
  {
   "cell_type": "code",
   "execution_count": 9,
   "id": "5801aba0",
   "metadata": {},
   "outputs": [
    {
     "data": {
      "text/plain": [
       "120"
      ]
     },
     "execution_count": 9,
     "metadata": {},
     "output_type": "execute_result"
    }
   ],
   "source": [
    "series_from_dict.loc['2023/12/23'] #.loc[] takes label/index as argument"
   ]
  },
  {
   "cell_type": "code",
   "execution_count": 10,
   "id": "7b495da3",
   "metadata": {},
   "outputs": [
    {
     "data": {
      "text/plain": [
       "139"
      ]
     },
     "execution_count": 10,
     "metadata": {},
     "output_type": "execute_result"
    }
   ],
   "source": [
    "series_from_dict.iloc[2] #.iloc[] takes the positional value as argument, position starts from 0"
   ]
  },
  {
   "cell_type": "markdown",
   "id": "a1299dbf",
   "metadata": {},
   "source": [
    "Methods & variables of Series in Pandas"
   ]
  },
  {
   "cell_type": "code",
   "execution_count": 11,
   "id": "ba8f3deb",
   "metadata": {},
   "outputs": [
    {
     "data": {
      "text/plain": [
       "6"
      ]
     },
     "execution_count": 11,
     "metadata": {},
     "output_type": "execute_result"
    }
   ],
   "source": [
    "series_from_list.size"
   ]
  },
  {
   "cell_type": "code",
   "execution_count": 12,
   "id": "481cb71a",
   "metadata": {},
   "outputs": [
    {
     "data": {
      "text/plain": [
       "<bound method IndexOpsMixin.tolist of 0    120\n",
       "1    131\n",
       "2    139\n",
       "3    144\n",
       "4    152\n",
       "5    157\n",
       "dtype: int64>"
      ]
     },
     "execution_count": 12,
     "metadata": {},
     "output_type": "execute_result"
    }
   ],
   "source": [
    "list_obj = series_from_list.tolist\n",
    "\n",
    "list_obj"
   ]
  },
  {
   "cell_type": "code",
   "execution_count": 13,
   "id": "36eda318",
   "metadata": {},
   "outputs": [
    {
     "data": {
      "text/plain": [
       "131"
      ]
     },
     "execution_count": 13,
     "metadata": {},
     "output_type": "execute_result"
    }
   ],
   "source": [
    "series_from_list.pop(item = 1)"
   ]
  },
  {
   "cell_type": "code",
   "execution_count": 14,
   "id": "cd1cd601",
   "metadata": {},
   "outputs": [
    {
     "data": {
      "text/plain": [
       "0    120\n",
       "2    139\n",
       "3    144\n",
       "4    152\n",
       "5    157\n",
       "dtype: int64"
      ]
     },
     "execution_count": 14,
     "metadata": {},
     "output_type": "execute_result"
    }
   ],
   "source": [
    "series_from_list"
   ]
  },
  {
   "cell_type": "code",
   "execution_count": 15,
   "id": "f5375088",
   "metadata": {},
   "outputs": [
    {
     "data": {
      "text/plain": [
       "0    120\n",
       "2    139\n",
       "3    144\n",
       "4    152\n",
       "5    157\n",
       "dtype: int64"
      ]
     },
     "execution_count": 15,
     "metadata": {},
     "output_type": "execute_result"
    }
   ],
   "source": [
    "series_from_list.sort_values()"
   ]
  },
  {
   "cell_type": "code",
   "execution_count": 16,
   "id": "7f0ef8f3",
   "metadata": {},
   "outputs": [
    {
     "data": {
      "text/plain": [
       "2023/12/23    120\n",
       "2023/12/24    131\n",
       "dtype: int64"
      ]
     },
     "execution_count": 16,
     "metadata": {},
     "output_type": "execute_result"
    }
   ],
   "source": [
    "series_from_dict.head(2) # Similer to head(), tail() is also available."
   ]
  },
  {
   "cell_type": "code",
   "execution_count": 17,
   "id": "e4d7805b",
   "metadata": {},
   "outputs": [
    {
     "data": {
      "text/plain": [
       "array([120, 139, 144, 152, 157], dtype=int64)"
      ]
     },
     "execution_count": 17,
     "metadata": {},
     "output_type": "execute_result"
    }
   ],
   "source": [
    "series_from_list.unique() #List of unique values"
   ]
  },
  {
   "cell_type": "code",
   "execution_count": 18,
   "id": "3ca391fe",
   "metadata": {},
   "outputs": [
    {
     "data": {
      "text/plain": [
       "pandas.core.series.Series"
      ]
     },
     "execution_count": 18,
     "metadata": {},
     "output_type": "execute_result"
    }
   ],
   "source": [
    "share_price = series_from_list\n",
    "type(share_price)"
   ]
  },
  {
   "cell_type": "code",
   "execution_count": 19,
   "id": "9d46e531",
   "metadata": {},
   "outputs": [
    {
     "data": {
      "text/plain": [
       "14.328293687665674"
      ]
     },
     "execution_count": 19,
     "metadata": {},
     "output_type": "execute_result"
    }
   ],
   "source": [
    "share_price.std()"
   ]
  },
  {
   "cell_type": "code",
   "execution_count": 20,
   "id": "20877e8b",
   "metadata": {},
   "outputs": [
    {
     "data": {
      "text/plain": [
       "144.0"
      ]
     },
     "execution_count": 20,
     "metadata": {},
     "output_type": "execute_result"
    }
   ],
   "source": [
    "share_price.median()"
   ]
  },
  {
   "cell_type": "code",
   "execution_count": 21,
   "id": "955e9d4b",
   "metadata": {},
   "outputs": [
    {
     "data": {
      "text/plain": [
       "157"
      ]
     },
     "execution_count": 21,
     "metadata": {},
     "output_type": "execute_result"
    }
   ],
   "source": [
    "share_price.max()"
   ]
  }
 ],
 "metadata": {
  "kernelspec": {
   "display_name": "Python 3 (ipykernel)",
   "language": "python",
   "name": "python3"
  },
  "language_info": {
   "codemirror_mode": {
    "name": "ipython",
    "version": 3
   },
   "file_extension": ".py",
   "mimetype": "text/x-python",
   "name": "python",
   "nbconvert_exporter": "python",
   "pygments_lexer": "ipython3",
   "version": "3.9.13"
  }
 },
 "nbformat": 4,
 "nbformat_minor": 5
}
